{
 "cells": [
  {
   "cell_type": "markdown",
   "metadata": {},
   "source": [
    "## Implementations of Q-iteration and Q-learning"
   ]
  },
  {
   "cell_type": "code",
   "execution_count": 8,
   "metadata": {
    "collapsed": true
   },
   "outputs": [],
   "source": [
    "import numpy as np\n",
    "\n",
    "# This function performs Q_iteration, based on Bellman optimality equation. It's an iterative update of the Q function. The input\n",
    "# parameters are the discount factor gamma, the number of iterations epochs and the reward matrix R. P corresponds to the \n",
    "# probability of having a broken robot, thus staying to the same state with probability P. The function returns the \n",
    "# converged Q-function. Convergence is assured by comparison to the previous iteration Q-function.\n",
    "def Q_iteration(gamma, epochs, R, P=None):\n",
    "    if P == None:\n",
    "        P = 0\n",
    "    Q = np.zeros_like(R)\n",
    "    Q_next = np.zeros_like(Q)\n",
    "    \n",
    "    # iterate for all states and all actions\n",
    "    for ii in range(epochs):\n",
    "        for s in range(Q.shape[1]):\n",
    "            #  if it's a terminal state continue\n",
    "            if s==0 or s==5:\n",
    "                    continue\n",
    "            for a in range(Q.shape[0]):\n",
    "                # perform the update\n",
    "                Q_next[a,s] = R[a,s] + gamma * np.amax([(1-P) * Q[:, 2*a - 1 + s] +  P * Q[:,s]])\n",
    "        \n",
    "        # compare to the value of the previous iteration and break if converged\n",
    "        if np.linalg.norm(Q-Q_next) < 1e-8:\n",
    "            break\n",
    "            \n",
    "        #update the value for the next iteration \n",
    "        #print(Q)\n",
    "        Q = np.array(Q_next, copy = True)\n",
    "        \n",
    "    Q = np.array(Q_next, copy = True)\n",
    "    return(Q)           \n",
    "    \n",
    "\n",
    "# The implementation of Q_learning algorithm. The input parameters are the discount factor gamma, the learning rate alpha, the \n",
    "# parameter epsilon of greedy research, the number of iterations epochs and the reward matrix R. P corresponds to the \n",
    "# probability of having a broken robot, thus staying to the same state with probability P.\n",
    "def Q_learning(gamma, alpha, epsilon, epochs, R, P = None):\n",
    "    if P == None:\n",
    "        P = 0\n",
    "    Q = np.zeros_like(R)\n",
    "    Q_next = np.zeros_like(Q)\n",
    "    \n",
    "    n_states = Q.shape[1] - 1\n",
    "    end_state = False\n",
    "    \n",
    "    # iterate for the set number of epochs\n",
    "    for ii in range(epochs):\n",
    "        # set an arbitrary initial state. Continue if the initial state is also a terminal state.\n",
    "        s = np.rint(n_states * np.random.rand()).astype(int)\n",
    "        if s==0 or s==5:\n",
    "                continue\n",
    "        # each episode include a number of steps updating the Q-function until the agent reaches a terminal state, when the\n",
    "        # running episode ends and we move to the next iteration\n",
    "        while(not end_state):\n",
    "            # set current Q function to the value extracted from the previous iteration.\n",
    "            Q = np.array(Q_next, copy = True)\n",
    "\n",
    "            # Apply ε-greedy research\n",
    "            t = np.random.rand()\n",
    "            if t<epsilon:\n",
    "                a = np.rint(np.random.rand()).astype(int)\n",
    "            else:\n",
    "                a = np.argmax([Q[:,s]])\n",
    "        \n",
    "            # Determine the next state based on action a. Then update the Q function.\n",
    "            # If we get a reward for ending up in a terminal state set end_state to true and continue with the next epoch\n",
    "            s_next = 2*a - 1 + s\n",
    "            Q_next[a,s] = Q[a,s] + alpha * (R[a,s] + gamma * np.amax([(1-P)*Q[:,s_next] + P*Q[:, s]]) - Q[a,s])\n",
    "            #Q_next[a,s] = Q[a,s] + alpha/(ii+1) * (R[a,s] + gamma * max(Q[:,s_next]) - Q[a,s])\n",
    "            if R[a,s]>0:\n",
    "                end_state = True   \n",
    "            s = s_next    \n",
    "        end_state = False\n",
    "                                       \n",
    "    Q = np.array(Q_next, copy = True)\n",
    "    return Q"
   ]
  },
  {
   "cell_type": "code",
   "execution_count": 17,
   "metadata": {},
   "outputs": [
    {
     "name": "stdout",
     "output_type": "stream",
     "text": [
      "[[0. 0. 0. 0. 0. 0.]\n",
      " [0. 0. 0. 0. 0. 0.]]\n",
      "[[0. 1. 0. 0. 0. 0.]\n",
      " [0. 0. 0. 0. 5. 0.]]\n",
      "[[0. 1. 1. 0. 0. 0.]\n",
      " [0. 0. 0. 5. 5. 0.]]\n",
      "[[0. 1. 1. 1. 5. 0.]\n",
      " [0. 1. 5. 5. 5. 0.]]\n",
      "[[0. 1. 1. 5. 5. 0.]\n",
      " [0. 5. 5. 5. 5. 0.]]\n",
      "[[0. 1. 5. 5. 5. 0.]\n",
      " [0. 5. 5. 5. 5. 0.]]\n"
     ]
    }
   ],
   "source": [
    "epochs = 1000\n",
    "gamma = 1\n",
    "\n",
    "Q = np.zeros((2,6))\n",
    "R = np.zeros_like(Q)\n",
    "R[0,1] = 1\n",
    "R[1,4] = 5\n",
    "\n",
    "QQ = Q_iteration(gamma, 1000, R, 0)\n",
    "print(np.round(QQ, 6))"
   ]
  },
  {
   "cell_type": "code",
   "execution_count": 213,
   "metadata": {},
   "outputs": [
    {
     "name": "stdout",
     "output_type": "stream",
     "text": [
      "[[0.    1.176 0.484 0.712 1.73  0.   ]\n",
      " [0.    0.411 0.997 2.422 5.882 0.   ]]\n"
     ]
    }
   ],
   "source": [
    "QQ = Q_learning(gamma, alpha, epsilon, 10000, R, 0.3)\n",
    "print(np.round(QQ, 3))"
   ]
  },
  {
   "cell_type": "markdown",
   "metadata": {},
   "source": [
    "## Visualizations "
   ]
  },
  {
   "cell_type": "code",
   "execution_count": 29,
   "metadata": {
    "collapsed": true
   },
   "outputs": [],
   "source": [
    "from matplotlib import pyplot as plt\n",
    "\n",
    "def divQlearn(Q_star, gamma, alpha, epsilon, epochs, rep, R, P):\n",
    "    diff = np.zeros(rep)\n",
    "    mean_diff = np.zeros(len(epochs))\n",
    "    std_diff = np.zeros_like(mean_diff)\n",
    "    \n",
    "    for i in range(len(epochs)):\n",
    "        for j in range(rep):\n",
    "            Q = Q_learning(gamma, alpha, epsilon, epochs[i], R, 0)\n",
    "            diff[j] = np.linalg.norm(Q - Q_star)\n",
    "        mean_diff[i] = np.mean(diff)\n",
    "        std_diff[i] = np.std(diff)\n",
    "        \n",
    "    fig = plt.figure()\n",
    "    plt.title('L2-norm difference berween Q-learning and groundtruth')\n",
    "    plt.xlabel(\"Number of interactions - epochs\")\n",
    "    plt.ylabel(\"L2-norm difference\")\n",
    "    aa = np.arange(len(epochs))\n",
    "    plt.fill_between(aa, mean_diff - std_diff,\n",
    "                     mean_diff + std_diff, alpha=0.1, color=\"r\")\n",
    "    plt.plot(aa, mean_diff, 'o-', color=\"r\", label = 'L2 diff')\n",
    "    \n",
    "    #plt.axis([0, 1, 0, 1], aspect = 'equal')\n",
    "    #axes.set_xticks(aa) #set the ticks to be a\n",
    "    #plt.axes.set_xticklabels(labels=['0', '0.1', '1', '10', '100', '1000']) # change the ticks' names to x\n",
    "    #labels = ['0', '0.1', '1', '10', '100', '1000']\n",
    "    #plt.xticks(aa, labels, rotation = 'horizontal')\n",
    "    plt.grid()\n",
    "    plt.legend(loc=\"best\")\n",
    "        \n",
    "        \n",
    "        "
   ]
  },
  {
   "cell_type": "code",
   "execution_count": 30,
   "metadata": {},
   "outputs": [
    {
     "name": "stdout",
     "output_type": "stream",
     "text": [
      "[[0.    1.    0.5   0.625 1.25  0.   ]\n",
      " [0.    6.25  1.25  2.5   5.    0.   ]]\n"
     ]
    },
    {
     "data": {
      "image/png": "[encoded data removed]",
      "text/plain": [
       "<matplotlib.figure.Figure at 0x1a6cdbbcba8>"
      ]
     },
     "metadata": {},
     "output_type": "display_data"
    }
   ],
   "source": [
    "epochs = np.arange(1000, 10000, 1000)\n",
    "Q_star = np.array([[0.0, 1.0, 0.5, 0.625, 1.25, 0.0], [0.0, 6.25, 1.25, 2.5, 5.0, 0.0]])\n",
    "print(Q_star)\n",
    "\n",
    "gamma = 0.5\n",
    "alpha = 1\n",
    "epsilon = 0.3\n",
    "rep = 5\n",
    "\n",
    "divQlearn(Q_star, 0.5, alpha, epsilon, epochs, rep, R, 0)"
   ]
  },
  {
   "cell_type": "code",
   "execution_count": 6,
   "metadata": {},
   "outputs": [
    {
     "ename": "NameError",
     "evalue": "name 'np' is not defined",
     "output_type": "error",
     "traceback": [
      "\u001b[1;31m---------------------------------------------------------------------------\u001b[0m",
      "\u001b[1;31mNameError\u001b[0m                                 Traceback (most recent call last)",
      "\u001b[1;32m<ipython-input-6-87952cb9a398>\u001b[0m in \u001b[0;36m<module>\u001b[1;34m()\u001b[0m\n\u001b[0;32m      2\u001b[0m \u001b[0mgamma\u001b[0m \u001b[1;33m=\u001b[0m \u001b[1;36m0.5\u001b[0m\u001b[1;33m\u001b[0m\u001b[0m\n\u001b[0;32m      3\u001b[0m \u001b[1;33m\u001b[0m\u001b[0m\n\u001b[1;32m----> 4\u001b[1;33m \u001b[0mQ\u001b[0m \u001b[1;33m=\u001b[0m \u001b[0mnp\u001b[0m\u001b[1;33m.\u001b[0m\u001b[0mzeros\u001b[0m\u001b[1;33m(\u001b[0m\u001b[1;33m(\u001b[0m\u001b[1;36m2\u001b[0m\u001b[1;33m,\u001b[0m\u001b[1;36m6\u001b[0m\u001b[1;33m)\u001b[0m\u001b[1;33m)\u001b[0m\u001b[1;33m\u001b[0m\u001b[0m\n\u001b[0m\u001b[0;32m      5\u001b[0m \u001b[0mQ_next\u001b[0m \u001b[1;33m=\u001b[0m \u001b[0mnp\u001b[0m\u001b[1;33m.\u001b[0m\u001b[0mzeros_like\u001b[0m\u001b[1;33m(\u001b[0m\u001b[0mQ\u001b[0m\u001b[1;33m)\u001b[0m\u001b[1;33m\u001b[0m\u001b[0m\n\u001b[0;32m      6\u001b[0m \u001b[0mR\u001b[0m \u001b[1;33m=\u001b[0m \u001b[0mnp\u001b[0m\u001b[1;33m.\u001b[0m\u001b[0mzeros_like\u001b[0m\u001b[1;33m(\u001b[0m\u001b[0mQ\u001b[0m\u001b[1;33m)\u001b[0m\u001b[1;33m\u001b[0m\u001b[0m\n",
      "\u001b[1;31mNameError\u001b[0m: name 'np' is not defined"
     ]
    }
   ],
   "source": [
    "\n",
    "epochs = 1000\n",
    "gamma = 0.5\n",
    "\n",
    "Q = np.zeros((2,6))\n",
    "Q_next = np.zeros_like(Q)\n",
    "R = np.zeros_like(Q)\n",
    "R[0,1] = 1\n",
    "R[1,4] = 5\n",
    "c = 0\n",
    "\n",
    "for ii in range(epochs):\n",
    "    c+=1\n",
    "    for s in range(Q.shape[1]):\n",
    "        if s==0 or s==5:\n",
    "                continue\n",
    "        for a in range(Q.shape[0]):\n",
    "            Q_next[a,s] = R[a,s] + gamma * max(Q[:, 2*a - 1 + s])\n",
    "    if np.linalg.norm(Q-Q_next) < 1e-16:\n",
    "        break\n",
    "    Q = np.array(Q_next, copy = True)\n",
    "            \n",
    "Q = Q_next        \n",
    "#print(Q)\n",
    "#print(c)"
   ]
  },
  {
   "cell_type": "code",
   "execution_count": 147,
   "metadata": {},
   "outputs": [
    {
     "name": "stdout",
     "output_type": "stream",
     "text": [
      "[[0.     1.     0.725  1.1875 2.375  0.    ]\n",
      " [0.     0.7375 1.25   2.5    5.     0.    ]]\n"
     ]
    }
   ],
   "source": [
    "QQ = Q_iteration(gamma, epochs, R, 0.3)\n",
    "print(QQ)"
   ]
  },
  {
   "cell_type": "markdown",
   "metadata": {},
   "source": [
    "## Q-learning"
   ]
  },
  {
   "cell_type": "code",
   "execution_count": 151,
   "metadata": {},
   "outputs": [
    {
     "name": "stdout",
     "output_type": "stream",
     "text": [
      "[[0.    0.824 0.393 0.499 1.211 0.   ]\n",
      " [0.    0.368 0.698 1.696 4.118 0.   ]]\n"
     ]
    }
   ],
   "source": [
    "# Implementation of Q-learning\n",
    "import numpy as np\n",
    "\n",
    "# Initialize the discount factor gamma, the learning rate alpha, the parameter for ε-greedy epsilon and the number of iterations\n",
    "# for the Q-learning algorithm epochs\n",
    "gamma = 0.5\n",
    "alpha = 1\n",
    "epsilon = 0.1\n",
    "epochs = 2000 \n",
    "P = 0.3\n",
    "\n",
    "Q = np.zeros((2,6))\n",
    "Q_next = np.zeros_like(Q)\n",
    "R = np.zeros_like(Q)\n",
    "R[0,1] = 1\n",
    "R[1,4] = 5\n",
    "n_states = Q.shape[1] - 1\n",
    "end_state = False\n",
    "\n",
    "\n",
    "for ii in range(epochs):\n",
    "    # set an arbitrary initial state. Continue if the initial state is also a terminal state.\n",
    "    s = np.rint(n_states * np.random.rand()).astype(int)\n",
    "    if s==0 or s==5:\n",
    "            continue\n",
    "    while(not end_state):\n",
    "        # set current Q function to the value extracted from the previous iteration.\n",
    "        Q = np.array(Q_next, copy = True)\n",
    "\n",
    "        # Apply ε-greedy research\n",
    "        t = np.random.rand()\n",
    "        if t<epsilon:\n",
    "            a = np.rint(np.random.rand()).astype(int)\n",
    "        else:\n",
    "            a = np.argmax([Q[:,s]])\n",
    "        \n",
    "        # Determine the next state based on action a. Then update the Q function.\n",
    "        # If we get a reward for ending up in a terminal state set end_state to true and continue with the next epoch\n",
    "        s_next = 2*a - 1 + s\n",
    "        Q_next[a,s] = Q[a,s] + alpha * (P * gamma * max(Q[:, s]) + (1-P) * (R[a,s] + gamma * max(Q[:,s_next])) - Q[a,s])\n",
    "        #Q_next[a,s] = Q[a,s] + alpha/(ii+1) * (R[a,s] + gamma * max(Q[:,s_next]) - Q[a,s])\n",
    "        if R[a,s]>0:\n",
    "            end_state = True   \n",
    "        s = s_next    \n",
    "    end_state = False\n",
    "                                       \n",
    "\n",
    "Q = Q_next    \n",
    "print(np.round(Q,3))                \n",
    "                                            "
   ]
  },
  {
   "cell_type": "markdown",
   "metadata": {},
   "source": [
    "## Continuous state - non deterministic transitions"
   ]
  },
  {
   "cell_type": "code",
   "execution_count": 193,
   "metadata": {},
   "outputs": [
    {
     "name": "stdout",
     "output_type": "stream",
     "text": [
      "Loss 5.578089670481885\n",
      "Divergence 0.00017088174982911666\n",
      "Loss 77.20980680252865\n",
      "Divergence 0.027472527472527486\n",
      "Loss 79.34752487483807\n",
      "Divergence 0.0006105006105006083\n",
      "Loss 79.53295820328552\n",
      "Divergence 0.00017403411068569324\n",
      "Loss 79.56690331735255\n",
      "Divergence 8.779168788299301e-06\n",
      "Loss 79.60089990869498\n",
      "Divergence 8.228827227543464e-05\n",
      "Loss 79.6488154922247\n",
      "Divergence 3.867394768188471e-06\n",
      "Loss 79.6594318989987\n",
      "Divergence 3.132832080200362e-05\n",
      "Loss 79.66711539232838\n",
      "Divergence 2.636296530633686e-05\n",
      "Loss 79.67423915477988\n",
      "Divergence 2.4683313093016527e-06\n",
      "Loss 79.68072030805389\n",
      "Divergence 1.8526752630797574e-05\n",
      "Loss 79.68519918792036\n",
      "Divergence 1.953353908661125e-06\n",
      "Loss 79.68920344527331\n",
      "Divergence 1.7290269036585645e-06\n",
      "Loss 79.6939054773825\n",
      "Divergence 1.5922147069689137e-06\n",
      "Loss 79.69885992225026\n",
      "Divergence 1.0366346692098141e-05\n",
      "Loss 79.704630697613\n",
      "Divergence 1.2062580668507818e-06\n",
      "Loss 79.70680307192997\n",
      "Divergence 7.536817352767761e-06\n",
      "Loss 79.71265091915642\n",
      "Divergence 5.737748186298089e-06\n",
      "Loss 79.71444852069297\n",
      "Divergence 7.964827322543e-07\n",
      "Loss 79.71599254893886\n",
      "Divergence 7.438041117491809e-07\n",
      "Loss 79.71731325271489\n",
      "Divergence 6.904112918147557e-07\n",
      "Loss 79.71846431373287\n",
      "Divergence 4.220007562253866e-06\n",
      "Loss 79.72073908688976\n",
      "Divergence 3.6745198504911647e-06\n",
      "Loss 79.72276093334692\n",
      "Divergence 5.098399102681714e-07\n",
      "Loss 79.72373511071466\n",
      "Divergence 3.025700298333895e-06\n",
      "Loss 79.72447501015047\n",
      "Divergence 4.580839447989758e-07\n",
      "Loss 79.72535019398897\n",
      "Divergence 2.69337634116679e-06\n",
      "Loss 79.72623024985486\n",
      "Divergence 2.52390644181694e-06\n",
      "Loss 79.72691467338063\n",
      "Divergence 2.406250090234048e-06\n",
      "Loss 79.72763936980387\n",
      "Divergence 3.679782392387778e-07\n",
      "Loss 79.72825412421047\n",
      "Divergence 2.162704591854043e-06\n",
      "Loss 79.72962916624026\n",
      "Divergence 1.9277405723843247e-06\n",
      "Loss 79.73024216961028\n",
      "Divergence 3.033943762817404e-07\n",
      "Loss 79.73066127610025\n",
      "Divergence 1.7662814053667243e-06\n",
      "Loss 79.7312118329968\n",
      "Divergence 2.7570083151369235e-07\n",
      "Loss 79.73174688720471\n",
      "Divergence 1.5968675845462812e-06\n",
      "Loss 79.73221499106079\n",
      "Divergence 2.5290000434997385e-07\n",
      "Loss 79.73282104767789\n",
      "Divergence 1.4475877686942994e-06\n",
      "Loss 79.73326370391506\n",
      "Divergence 2.2218459896347414e-07\n",
      "Loss 79.73371262497001\n",
      "Divergence 1.3210144334035653e-06\n",
      "Loss 79.7340058938307\n",
      "Divergence 1.2786069117400045e-06\n",
      "Loss 79.73439286443445\n",
      "Divergence 1.999227498494468e-07\n",
      "Loss 79.73470235648601\n",
      "Divergence 1.9127473517056588e-07\n",
      "Loss 79.7350107400187\n",
      "Divergence 1.8396244811340204e-07\n",
      "Loss 79.7357317930302\n",
      "Divergence 1.060352732698295e-06\n",
      "Loss 79.73598727164902\n",
      "Divergence 1.0316506286259242e-06\n",
      "Loss 79.7363125113737\n",
      "Divergence 9.933856410476553e-07\n",
      "Loss 79.73653157078864\n",
      "Divergence 1.5372672000982246e-07\n",
      "Loss 79.73677495669135\n",
      "Divergence 1.4764493047841713e-07\n",
      "Loss 79.73732639128971\n",
      "Divergence 8.779042389079651e-07\n",
      "Loss 79.7376357115346\n",
      "Divergence 8.422425752949506e-07\n",
      "Loss 79.73787621748048\n",
      "Divergence 1.327619260038074e-07\n",
      "Loss 79.73837045892837\n",
      "Divergence 7.632375928095549e-07\n",
      "Loss 79.73859415626198\n",
      "Divergence 1.2136261084955786e-07\n",
      "Loss 79.73883299010801\n",
      "Divergence 1.1870132207155793e-07\n",
      "Loss 79.73928075363798\n",
      "Divergence 6.676965217818596e-07\n",
      "Loss 79.73948036712555\n",
      "Divergence 6.48596592636632e-07\n",
      "Loss 79.73968880926162\n",
      "Divergence 6.28072688610903e-07\n",
      "Loss 79.73991163611493\n",
      "Divergence 6.080834232080438e-07\n",
      "Loss 79.74010934924415\n",
      "Divergence 5.902483883267994e-07\n",
      "Loss 79.74029587197704\n",
      "Divergence 9.998594197653966e-08\n",
      "Loss 79.740491374242\n",
      "Divergence 9.787022642863312e-08\n",
      "Loss 79.7406503363326\n",
      "Divergence 5.422798224619368e-07\n",
      "Loss 79.74082834177086\n",
      "Divergence 9.383539020509177e-08\n",
      "Loss 79.74097825351004\n",
      "Divergence 9.168839223120838e-08\n",
      "Loss 79.74112843020481\n",
      "Divergence 5.02150207187281e-07\n",
      "Loss 79.74122623337199\n",
      "Divergence 8.678574249109013e-08\n",
      "Loss 79.74134943391783\n",
      "Divergence 8.423556644625383e-08\n",
      "Loss 79.74150346638818\n",
      "Divergence 8.269242568801185e-08\n",
      "Loss 79.74162823430746\n",
      "Divergence 4.6067112412034004e-07\n",
      "Loss 79.74188071481768\n",
      "Divergence 7.688261301246535e-08\n",
      "Loss 79.7420397302261\n",
      "Divergence 4.2735700207341236e-07\n",
      "Loss 79.74218883982165\n",
      "Divergence 4.1585035242489715e-07\n",
      "Loss 79.74230413670793\n",
      "Divergence 7.204948358530182e-08\n",
      "Loss 79.74243287994193\n",
      "Divergence 3.973060741105719e-07\n",
      "Loss 79.74253812273938\n",
      "Divergence 3.8936346238188126e-07\n",
      "Loss 79.74266642232263\n",
      "Divergence 6.765817466366673e-08\n",
      "Loss 79.74281078822524\n",
      "Divergence 3.6991408819278884e-07\n",
      "Loss 79.7429212193411\n",
      "Divergence 6.512688475578815e-08\n",
      "Loss 79.74303018111628\n",
      "Divergence 6.375290394477215e-08\n",
      "Loss 79.74314833050545\n",
      "Divergence 3.465339192252649e-07\n",
      "Loss 79.74326050885996\n",
      "Divergence 6.140522165444745e-08\n",
      "Loss 79.74337730852697\n",
      "Divergence 6.038344696490412e-08\n"
     ]
    }
   ],
   "source": [
    "epochs = 10000\n",
    "epsilon = 0.1\n",
    "gamma = 0.5\n",
    "alpha = 0.1\n",
    "\n",
    "Q = np.zeros((2,6))\n",
    "Q_next = np.zeros_like(Q)\n",
    "cc = np.zeros_like(Q)\n",
    "R = np.zeros_like(Q)\n",
    "R[0,1] = 1\n",
    "R[1,4] = 5\n",
    "n_states = Q.shape[1] - 1\n",
    "end_state = False\n",
    "\n",
    "sigma = 0.1\n",
    "\n",
    "# initial weights for the function approximation\n",
    "w = np.random.rand(13)\n",
    "\n",
    "# parameters of the Gaussian for the noise corruption of state transition. Mean and std\n",
    "mean_g = 0\n",
    "sigma_g = 0.1\n",
    "\n",
    "Loss = 0\n",
    "\n",
    "# basis functions in form (action x state x basis functions)\n",
    "phi_sa = np.zeros((2,6,13))\n",
    "phi_sa[:,:,12] = 1\n",
    "\n",
    "phi_s = np.abs(np.arange(6) - np.arange(6)[:,np.newaxis])\n",
    "phi_sa[0, :, 0:6] = phi_s\n",
    "phi_sa[1, :, 6:12] = phi_s\n",
    "\n",
    "for ii in range(epochs):\n",
    "    # set an arbitrary initial state. Continue if the initial state is also a terminal state.\n",
    "    s = np.rint(n_states * np.random.rand()).astype(int)\n",
    "    s_disc = s\n",
    "    if s==0 or s==5:\n",
    "            continue\n",
    "    while(not end_state):\n",
    "    #for i in range(1):        \n",
    "        # Apply ε-greedy research to determine the next action\n",
    "        t = np.random.rand()\n",
    "        if t<epsilon:\n",
    "            a = np.rint(np.random.rand()).astype(int)\n",
    "        else:\n",
    "            a = np.argmax([Q[:,s_disc]])\n",
    "            \n",
    "        # derive next continuous state, incorporating the Gaussian noise\n",
    "        # extract also a discretised next state. each state corresponds to the interval s+-0.5\n",
    "        s_next = 2*a - 1 + s + np.random.normal(mean_g, sigma_g)\n",
    "        s_next_disc = np.rint(s_next).astype(int)\n",
    "        if s_next_disc<0:\n",
    "            s_next_disc = 0\n",
    "        elif s_next_disc>Q.shape[1] - 1:\n",
    "            s_next_disc = Q.shape[1] - 1\n",
    "        \n",
    "        # Incrementing the counter of interactions with the certain (action, state) for a discretized version of the next state\n",
    "        # Next update the Q_target approximation, by division with the counter of (action, state)\n",
    "        cc[a, s_disc] += 1\n",
    "        Q_next[a, s_disc] = (R[a,s_disc] + gamma * max(Q[:, s_next_disc])) / cc[a, s_disc]\n",
    "        div = Q_next[a, s_disc] - np.multiply(w, phi_sa[a, s_disc, :])\n",
    "        Loss += 0.5 * div**2\n",
    "        w += alpha * np.multiply(div , phi_sa[a, s_disc, :])\n",
    "        \n",
    "        if s_next<0.5 or s_next>=4.5:\n",
    "            end_state = True\n",
    "            \n",
    "        s = s_next\n",
    "        s_disc = s_next_disc\n",
    "        Qtemp = np.array(Q, copy = True)\n",
    "        Q = np.array(Q_next, copy = True)\n",
    "    end_state = False\n",
    "    if ii%100 == 0 :\n",
    "        print('Loss', np.linalg.norm(Loss))\n",
    "        #print('Divergence', np.linalg.norm(Q-Qtemp))"
   ]
  },
  {
   "cell_type": "code",
   "execution_count": 96,
   "metadata": {},
   "outputs": [
    {
     "name": "stdout",
     "output_type": "stream",
     "text": [
      "[5.61893906 4.61893906 3.61893906 2.61893906 1.61893906 0.61893906]\n",
      "[9.68921504e-123 5.02357268e-101 2.60457450e-079 1.35039518e-057\n",
      " 7.00140137e-036 3.63002044e-014]\n",
      "State 4.435542129782158\n",
      "Action 1\n",
      "Next state 5.61893906045828\n",
      "Loss 128144.53513347667\n"
     ]
    }
   ],
   "source": [
    "print(feat)\n",
    "print(phi)\n",
    "print('State', s)\n",
    "print(\"Action\", a)\n",
    "print('Next state', s_next)\n",
    "print('Loss', Loss)"
   ]
  },
  {
   "cell_type": "code",
   "execution_count": 171,
   "metadata": {
    "collapsed": true
   },
   "outputs": [],
   "source": [
    "# basis functions\n",
    "phi_sa = np.zeros((2,6,13))\n",
    "phi_sa[:,:,12] = 1\n",
    "\n",
    "phi_s = np.abs(np.arange(6) - np.arange(6)[:,np.newaxis])\n",
    "phi_sa[0, :, 0:6] = phi_s\n",
    "phi_sa[1, :, 6:12] = phi_s"
   ]
  },
  {
   "cell_type": "code",
   "execution_count": 188,
   "metadata": {},
   "outputs": [
    {
     "name": "stdout",
     "output_type": "stream",
     "text": [
      "[ 0  4 12 24]\n"
     ]
    }
   ],
   "source": [
    "print()"
   ]
  },
  {
   "cell_type": "code",
   "execution_count": null,
   "metadata": {
    "collapsed": true
   },
   "outputs": [],
   "source": []
  }
 ],
 "metadata": {
  "kernelspec": {
   "display_name": "Machine Learning",
   "language": "python",
   "name": "machine-learning"
  },
  "language_info": {
   "codemirror_mode": {
    "name": "ipython",
    "version": 3
   },
   "file_extension": ".py",
   "mimetype": "text/x-python",
   "name": "python",
   "nbconvert_exporter": "python",
   "pygments_lexer": "ipython3",
   "version": "3.6.4"
  }
 },
 "nbformat": 4,
 "nbformat_minor": 2
}
